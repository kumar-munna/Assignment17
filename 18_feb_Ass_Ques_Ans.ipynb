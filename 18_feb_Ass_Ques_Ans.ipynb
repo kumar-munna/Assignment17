{
 "cells": [
  {
   "cell_type": "code",
   "execution_count": 1,
   "id": "a154a15f-4f17-4981-a891-7f6855dec6d8",
   "metadata": {},
   "outputs": [],
   "source": [
    "# Q1. What is an API? Give an example, where an API is used in real life."
   ]
  },
  {
   "cell_type": "code",
   "execution_count": 1,
   "id": "c40bfbe8-ec7b-4995-97c4-d9e125d685d3",
   "metadata": {},
   "outputs": [],
   "source": [
    "# Answer 1:-"
   ]
  },
  {
   "cell_type": "code",
   "execution_count": null,
   "id": "b802f4d7-eabf-4910-a622-42dc72a227b8",
   "metadata": {},
   "outputs": [],
   "source": [
    "# Application Programming Interface (API) is a software interface that \n",
    "# allows two applications to interact with each other without any user \n",
    "# intervention. API is a collection of software functions and procedures. \n",
    "# In simple terms, API means a software code that can be accessed or executed. \n",
    "# API is defined as a code that helps two different software’s to communicate \n",
    "# and exchange data with each other.\n",
    "\n",
    "# For example, you go to the movie site, you enter your movie, name, and credit \n",
    "# card information, and behold, you print out tickets.They are collaborating with \n",
    "# other applications. This integration is called “seamless,” as you never have a \n",
    "# clue when a software role is passed from one application to another.\n",
    "\n",
    "# YouTube API allows developers to integrate YouTube videos and functionality into \n",
    "# websites or applications."
   ]
  },
  {
   "cell_type": "code",
   "execution_count": null,
   "id": "dc445504-a8bf-48c0-b102-f4598aac3d22",
   "metadata": {},
   "outputs": [],
   "source": [
    "# Q2. Give advantages and disadvantages of using API."
   ]
  },
  {
   "cell_type": "code",
   "execution_count": null,
   "id": "0255b849-1e58-4371-b4fe-66ecba53ca55",
   "metadata": {},
   "outputs": [],
   "source": [
    "# Answer 2:-"
   ]
  },
  {
   "cell_type": "code",
   "execution_count": null,
   "id": "c15d2987-df99-4b52-bc1a-0bb28fcfeab7",
   "metadata": {},
   "outputs": [],
   "source": [
    "# The main advantage of providing an API is that it allows your users to do more with your \n",
    "# product or service (i.e. it increases the value of your product). This typically takes \n",
    "# one of two forms -\n",
    "\n",
    "# an integration:- An example of an integration is to push notifications from your product\n",
    "# (such as CRM, Helpdesk) to a messaging tool such as Slack. In this way, if your customer\n",
    "# uses Slack they can receive notifications without having to login directly to your system \n",
    "# or check emails. \n",
    "# new functionality:- In the early days of Twitter, some of the most popular Twitter \n",
    "# clients were produced by third parties using the Twitter API. Twitter and its users \n",
    "# benefited from the new functionality that was undertaken by other companies.\n",
    "\n",
    "# The disadvantages to providing an API are,\n",
    "\n",
    "# Cost:- Providing an API is expensive in terms of development time, ongoing maintenance,\n",
    "# providing API documentation on your website and providing support to users of your API.\n",
    "# Security exposure:- Adding an API adds another attack surface to your website.\n"
   ]
  },
  {
   "cell_type": "code",
   "execution_count": null,
   "id": "a1382c25-b790-4aaa-b920-2ce5cb599b3b",
   "metadata": {},
   "outputs": [],
   "source": [
    "# Q3. What is a Web API? Differentiate between API and Web API"
   ]
  },
  {
   "cell_type": "code",
   "execution_count": null,
   "id": "64728ab4-ac78-4829-abdf-eaecfc94982a",
   "metadata": {},
   "outputs": [],
   "source": [
    "# Answer 3:-"
   ]
  },
  {
   "cell_type": "code",
   "execution_count": null,
   "id": "9eba8983-c165-4524-815d-cd57ab83cac3",
   "metadata": {},
   "outputs": [],
   "source": [
    "# A Web API, also known as a Web Service, is a specific type of API that is designed to be \n",
    "# accessed over the internet using standard web protocols. It allows applications to \n",
    "# communicate with each other using HTTP (Hypertext Transfer Protocol) and other web-related\n",
    "# technologies."
   ]
  },
  {
   "cell_type": "code",
   "execution_count": null,
   "id": "7372bd65-d3b9-4a42-ba36-3da6e638ff76",
   "metadata": {},
   "outputs": [],
   "source": [
    "# 1. Scope of Communication:\n",
    "#     API: An API is a general term that encompasses various forms of communication between software\n",
    "#     components, which could include local library APIs, operating system APIs, and more.\n",
    "    \n",
    "#     Web API: A Web API specifically refers to APIs that are accessed over the internet using HTTP,\n",
    "#     making them suitable for remote communication between different applications or services.\n",
    "    \n",
    "# 2. Communication Protocol:\n",
    "#      API: The communication protocol for an API can vary, ranging from function calls within a \n",
    "#         programming language to more specific protocols\n",
    "        \n",
    "#     Web API: Web APIs use HTTP as the communication protocol, making them easily accessible \n",
    "#     through URLs (Uniform Resource Locators) and standard HTTP methods like GET, POST, PUT, and \n",
    "#     DELETE.\n",
    "# 3. Access Location:\n",
    "#      API: APIs can be accessed locally within the same application or within the same system.\n",
    "        \n",
    "#      Web API: Web APIs are designed to be accessed over the internet, allowing for remote \n",
    "#     communication between different systems or devices.\n",
    "    "
   ]
  },
  {
   "cell_type": "code",
   "execution_count": null,
   "id": "20eb81f1-84be-444b-8763-e98c71e3f688",
   "metadata": {},
   "outputs": [],
   "source": [
    "# Q4. Explain REST and SOAP Architecture. Mention shortcomings of SOAP"
   ]
  },
  {
   "cell_type": "code",
   "execution_count": null,
   "id": "4477aaf7-d16c-4bea-9af2-0515b01eb8ed",
   "metadata": {},
   "outputs": [],
   "source": [
    "# Answer 4:-"
   ]
  },
  {
   "cell_type": "code",
   "execution_count": null,
   "id": "598d39f6-7433-4723-a6df-e0db589999ac",
   "metadata": {},
   "outputs": [],
   "source": [
    "# REST :- REST is an architectural style for designing networked applications, particularly\n",
    "# web services, that focus on resource-based interactions. It emphasizes the use of standard\n",
    "# HTTP methods (GET, POST, PUT, DELETE) and status codes to perform operations on resources."
   ]
  },
  {
   "cell_type": "code",
   "execution_count": null,
   "id": "1193513c-5c8c-4f61-b9ec-f22b135f45b6",
   "metadata": {},
   "outputs": [],
   "source": [
    "# SOAP is a protocol for exchanging structured information in the implementation of web services.\n",
    "# Unlike REST, which is an architectural style, SOAP is a specific protocol that defines rules \n",
    "# for structuring messages and performing communication between applications. SOAP messages are \n",
    "# typically XML-based and can be transported over various protocols, including HTTP, SMTP, and more."
   ]
  },
  {
   "cell_type": "code",
   "execution_count": null,
   "id": "08414a8e-a28b-4abe-bd23-d16537cfd003",
   "metadata": {},
   "outputs": [],
   "source": [
    "# Shortcoming of SOAP:-\n",
    "\n",
    "# Complexity: SOAP messages can be verbose due to their XML-based nature, making them more \n",
    "# challenging to read and troubleshoot.\n",
    "\n",
    "# Overhead: The XML-based structure of SOAP messages results in higher bandwidth consumption\n",
    "# compared to more compact formats like JSON used in REST.\n",
    "\n",
    "# Performance: Due to its additional overhead, SOAP can be slower than more lightweight protocols\n",
    "# like REST."
   ]
  },
  {
   "cell_type": "code",
   "execution_count": null,
   "id": "6bcc5955-3170-4e27-a17c-4a1ecdbd4fdf",
   "metadata": {},
   "outputs": [],
   "source": [
    "# Q5. Differentiate between REST and SOAP."
   ]
  },
  {
   "cell_type": "code",
   "execution_count": null,
   "id": "11770ae6-2209-485d-9caf-4a2003a4f5e0",
   "metadata": {},
   "outputs": [],
   "source": [
    "# Answer 5:-"
   ]
  },
  {
   "cell_type": "code",
   "execution_count": null,
   "id": "c0e6491d-3989-48b6-8727-434ae3c49ada",
   "metadata": {},
   "outputs": [],
   "source": [
    "# REST and SOAP represent different approaches to building APIs and handling communication between\n",
    "# applications. REST is resource-oriented, lightweight, and utilizes HTTP, while SOAP is \n",
    "# protocol-based, XML-heavy, and supports various transport protocols. The choice between REST \n",
    "# and SOAP depends on factors like the complexity of the system, compatibility requirements, and\n",
    "# the preferred style of interaction."
   ]
  }
 ],
 "metadata": {
  "kernelspec": {
   "display_name": "Python 3 (ipykernel)",
   "language": "python",
   "name": "python3"
  },
  "language_info": {
   "codemirror_mode": {
    "name": "ipython",
    "version": 3
   },
   "file_extension": ".py",
   "mimetype": "text/x-python",
   "name": "python",
   "nbconvert_exporter": "python",
   "pygments_lexer": "ipython3",
   "version": "3.10.8"
  }
 },
 "nbformat": 4,
 "nbformat_minor": 5
}
